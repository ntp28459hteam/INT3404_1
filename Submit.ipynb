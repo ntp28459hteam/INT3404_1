{
 "cells": [
  {
   "cell_type": "code",
   "execution_count": 1,
   "metadata": {
    "scrolled": false
   },
   "outputs": [
    {
     "name": "stdout",
     "output_type": "stream",
     "text": [
      "3.4.3\n"
     ]
    },
    {
     "data": {
      "text/plain": [
       "True"
      ]
     },
     "execution_count": 1,
     "metadata": {},
     "output_type": "execute_result"
    }
   ],
   "source": [
    "import cv2\n",
    "import matplotlib.pyplot as plt\n",
    "import numpy as np\n",
    "print (cv2.__version__)\n",
    "\n",
    "plt.figure(figsize=(12,8))\n",
    "img1_org = cv2.imread(\"04.jpg\")\n",
    "img1_org = cv2.resize(img1_org, (800, 600))\n",
    "img1 = cv2.cvtColor(img1_org, cv2.COLOR_BGR2GRAY)\n",
    "kernel = cv2.getStructuringElement(cv2.MORPH_RECT, (20, 20))\n",
    "kernel_erosion = cv2.getStructuringElement(cv2.MORPH_RECT, (1, 1))\n",
    "black_hat = cv2.morphologyEx(img1, cv2.MORPH_BLACKHAT, kernel)\n",
    "\n",
    "morph1 = cv2.erode(black_hat, kernel, iterations=1)\n",
    "blurred = cv2.blur(black_hat, (15, 15))\n",
    "(_, thresh2) = cv2.threshold(blurred, 225, 255, cv2.THRESH_BINARY)\n",
    "kernel2 = cv2.getStructuringElement(cv2.MORPH_RECT, (10, 3))\n",
    "dilation = cv2.dilate(black_hat,kernel2, iterations=1)\n",
    "kernel3 = cv2.getStructuringElement(cv2.MORPH_RECT, (10, 3))\n",
    "erosion = cv2.erode(dilation,kernel3, iterations=1)\n",
    "ret, thr = cv2.threshold(erosion, 50, 125, cv2.THRESH_BINARY)\n",
    "# plt.imshow(dilation, cmap='gray')\n",
    "# plt.imshow(erosion, cmap='gray')\n",
    "# plt.imshow(thr, cmap='gray')\n",
    "\n",
    "(_, contours, _) = cv2.findContours(thr.copy(), cv2.RETR_EXTERNAL, cv2.CHAIN_APPROX_SIMPLE)\n",
    "c = sorted(contours, key = cv2.contourArea, reverse = True)[0]\n",
    "# calculate the rotated bounding box of the largest contour\n",
    "rect = cv2.minAreaRect(c)\n",
    "box = np.int0(cv2.boxPoints(rect))\n",
    "# draw a box around the detected barcode and display the image\n",
    "cv2.drawContours(img1_org, [box], -1, (255, 255, 255), 3)\n",
    "cv2.imwrite(\"04_out.jpg\", img1_org)\n",
    "# cv2.imshow(\"Image\", img1_org)\n",
    "# cv2.waitKey(0)"
   ]
  },
  {
   "cell_type": "code",
   "execution_count": null,
   "metadata": {},
   "outputs": [],
   "source": []
  },
  {
   "cell_type": "code",
   "execution_count": null,
   "metadata": {},
   "outputs": [],
   "source": []
  }
 ],
 "metadata": {
  "kernelspec": {
   "display_name": "Python 3",
   "language": "python",
   "name": "python3"
  },
  "language_info": {
   "codemirror_mode": {
    "name": "ipython",
    "version": 3
   },
   "file_extension": ".py",
   "mimetype": "text/x-python",
   "name": "python",
   "nbconvert_exporter": "python",
   "pygments_lexer": "ipython3",
   "version": "3.6.9"
  }
 },
 "nbformat": 4,
 "nbformat_minor": 2
}
